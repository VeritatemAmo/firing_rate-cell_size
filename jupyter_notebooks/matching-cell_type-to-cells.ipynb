{
 "cells": [
  {
   "cell_type": "markdown",
   "metadata": {},
   "source": [
    "This script merges cell features, cell specimen IDs and corresponding cell set nomenclature and cell type information together. This output a dataframe that help categorizes individual cells for analysis of firing rate and cell volume. "
   ]
  },
  {
   "cell_type": "code",
   "execution_count": 1,
   "metadata": {},
   "outputs": [],
   "source": [
    "import numpy as np\n",
    "import pandas as pd"
   ]
  },
  {
   "cell_type": "code",
   "execution_count": 2,
   "metadata": {},
   "outputs": [],
   "source": [
    "pd.set_option('display.max_columns', 50)"
   ]
  },
  {
   "cell_type": "code",
   "execution_count": null,
   "metadata": {},
   "outputs": [],
   "source": [
    "# import features of each cell specimen\n",
    "feature_df = pd.read_csv('../data/cell_types_specimen_details.csv')"
   ]
  },
  {
   "cell_type": "code",
   "execution_count": null,
   "metadata": {},
   "outputs": [],
   "source": [
    "feature_df.shape # a matrix of 2333 cells, 54 features"
   ]
  },
  {
   "cell_type": "code",
   "execution_count": null,
   "metadata": {},
   "outputs": [],
   "source": [
    "# This dataframe has no duplicated specimen IDs\n",
    "feature_df[feature_df.duplicated(subset=['specimen__id'],keep=False)]"
   ]
  },
  {
   "cell_type": "code",
   "execution_count": null,
   "metadata": {},
   "outputs": [],
   "source": [
    "# import type classifications from Gouwens et al., 2019\n",
    "# Classification of electrophysiological and morphological neuron types in the mouse visual cortex\n",
    "# Supplementary Dataset 3 \n",
    "# Type classifications and morphological adjustment parameters by cell\n",
    "# e-types: 17 electrophysiological types\n",
    "# m-types: 38 morphological types\n",
    "# me-types: 46 morpho-electric types\n",
    "type_df = pd.read_excel('../docs/Allen_Classification_Paper_Sup_3.xlsx',sheet_name='Data')"
   ]
  },
  {
   "cell_type": "code",
   "execution_count": 7,
   "metadata": {},
   "outputs": [
    {
     "data": {
      "text/plain": [
       "(1947, 8)"
      ]
     },
     "execution_count": 7,
     "metadata": {},
     "output_type": "execute_result"
    }
   ],
   "source": [
    "type_df.shape # a matrix of 1947 cells, 8 features"
   ]
  },
  {
   "cell_type": "code",
   "execution_count": 8,
   "metadata": {},
   "outputs": [
    {
     "data": {
      "text/html": [
       "<div>\n",
       "<style scoped>\n",
       "    .dataframe tbody tr th:only-of-type {\n",
       "        vertical-align: middle;\n",
       "    }\n",
       "\n",
       "    .dataframe tbody tr th {\n",
       "        vertical-align: top;\n",
       "    }\n",
       "\n",
       "    .dataframe thead th {\n",
       "        text-align: right;\n",
       "    }\n",
       "</style>\n",
       "<table border=\"1\" class=\"dataframe\">\n",
       "  <thead>\n",
       "    <tr style=\"text-align: right;\">\n",
       "      <th></th>\n",
       "      <th>specimen_id</th>\n",
       "      <th>e-type</th>\n",
       "      <th>m-type</th>\n",
       "      <th>me-type</th>\n",
       "      <th>upright_angle</th>\n",
       "      <th>soma_distance_from_pia</th>\n",
       "      <th>estimated_shrinkage_factor</th>\n",
       "      <th>estimated_slice_angle</th>\n",
       "    </tr>\n",
       "  </thead>\n",
       "  <tbody>\n",
       "  </tbody>\n",
       "</table>\n",
       "</div>"
      ],
      "text/plain": [
       "Empty DataFrame\n",
       "Columns: [specimen_id, e-type, m-type, me-type, upright_angle, soma_distance_from_pia, estimated_shrinkage_factor, estimated_slice_angle]\n",
       "Index: []"
      ]
     },
     "execution_count": 8,
     "metadata": {},
     "output_type": "execute_result"
    }
   ],
   "source": [
    "# The dataframe has no duplicated specimen IDs\n",
    "type_df[type_df.duplicated(subset=['specimen_id'],keep=False)]"
   ]
  },
  {
   "cell_type": "code",
   "execution_count": 9,
   "metadata": {},
   "outputs": [],
   "source": [
    "df = pd.merge(left=type_df,right=feature_df,left_on='specimen_id',right_on='specimen__id',how='inner')"
   ]
  },
  {
   "cell_type": "code",
   "execution_count": 10,
   "metadata": {},
   "outputs": [
    {
     "data": {
      "text/html": [
       "<div>\n",
       "<style scoped>\n",
       "    .dataframe tbody tr th:only-of-type {\n",
       "        vertical-align: middle;\n",
       "    }\n",
       "\n",
       "    .dataframe tbody tr th {\n",
       "        vertical-align: top;\n",
       "    }\n",
       "\n",
       "    .dataframe thead th {\n",
       "        text-align: right;\n",
       "    }\n",
       "</style>\n",
       "<table border=\"1\" class=\"dataframe\">\n",
       "  <thead>\n",
       "    <tr style=\"text-align: right;\">\n",
       "      <th></th>\n",
       "      <th>specimen_id</th>\n",
       "      <th>e-type</th>\n",
       "      <th>m-type</th>\n",
       "      <th>me-type</th>\n",
       "      <th>upright_angle</th>\n",
       "      <th>soma_distance_from_pia</th>\n",
       "      <th>estimated_shrinkage_factor</th>\n",
       "      <th>estimated_slice_angle</th>\n",
       "      <th>line_name</th>\n",
       "      <th>specimen__id</th>\n",
       "      <th>specimen__name</th>\n",
       "      <th>specimen__hemisphere</th>\n",
       "      <th>structure__id</th>\n",
       "      <th>structure__name</th>\n",
       "      <th>structure__acronym</th>\n",
       "      <th>structure_parent__id</th>\n",
       "      <th>structure_parent__acronym</th>\n",
       "      <th>structure__layer</th>\n",
       "      <th>nr__max_euclidean_distance</th>\n",
       "      <th>nr__number_stems</th>\n",
       "      <th>nr__number_bifurcations</th>\n",
       "      <th>nr__average_contraction</th>\n",
       "      <th>nr__average_parent_daughter_ratio</th>\n",
       "      <th>nr__reconstruction_type</th>\n",
       "      <th>nrwkf__id</th>\n",
       "      <th>...</th>\n",
       "      <th>si__height</th>\n",
       "      <th>si__width</th>\n",
       "      <th>si__path</th>\n",
       "      <th>csl__x</th>\n",
       "      <th>csl__y</th>\n",
       "      <th>csl__z</th>\n",
       "      <th>csl__normalized_depth</th>\n",
       "      <th>cell_reporter_status</th>\n",
       "      <th>m__glif</th>\n",
       "      <th>m__biophys</th>\n",
       "      <th>m__biophys_perisomatic</th>\n",
       "      <th>m__biophys_all_active</th>\n",
       "      <th>tag__apical</th>\n",
       "      <th>tag__dendrite_type</th>\n",
       "      <th>morph_thumb_path</th>\n",
       "      <th>ephys_thumb_path</th>\n",
       "      <th>ephys_inst_thresh_thumb_path</th>\n",
       "      <th>donor__age</th>\n",
       "      <th>donor__sex</th>\n",
       "      <th>donor__disease_state</th>\n",
       "      <th>donor__race</th>\n",
       "      <th>donor__years_of_seizure_history</th>\n",
       "      <th>donor__species</th>\n",
       "      <th>donor__id</th>\n",
       "      <th>donor__name</th>\n",
       "    </tr>\n",
       "  </thead>\n",
       "  <tbody>\n",
       "  </tbody>\n",
       "</table>\n",
       "<p>0 rows × 62 columns</p>\n",
       "</div>"
      ],
      "text/plain": [
       "Empty DataFrame\n",
       "Columns: [specimen_id, e-type, m-type, me-type, upright_angle, soma_distance_from_pia, estimated_shrinkage_factor, estimated_slice_angle, line_name, specimen__id, specimen__name, specimen__hemisphere, structure__id, structure__name, structure__acronym, structure_parent__id, structure_parent__acronym, structure__layer, nr__max_euclidean_distance, nr__number_stems, nr__number_bifurcations, nr__average_contraction, nr__average_parent_daughter_ratio, nr__reconstruction_type, nrwkf__id, erwkf__id, ef__fast_trough_v_long_square, ef__upstroke_downstroke_ratio_long_square, ef__adaptation, ef__f_i_curve_slope, ef__threshold_i_long_square, ef__tau, ef__avg_isi, ef__avg_firing_rate, ef__ri, ef__peak_t_ramp, ef__vrest, si__height, si__width, si__path, csl__x, csl__y, csl__z, csl__normalized_depth, cell_reporter_status, m__glif, m__biophys, m__biophys_perisomatic, m__biophys_all_active, tag__apical, tag__dendrite_type, morph_thumb_path, ephys_thumb_path, ephys_inst_thresh_thumb_path, donor__age, donor__sex, donor__disease_state, donor__race, donor__years_of_seizure_history, donor__species, donor__id, donor__name]\n",
       "Index: []\n",
       "\n",
       "[0 rows x 62 columns]"
      ]
     },
     "execution_count": 10,
     "metadata": {},
     "output_type": "execute_result"
    }
   ],
   "source": [
    "# No duplicated specimen IDs\n",
    "df[df.duplicated(subset=['specimen_id'],keep=False)]"
   ]
  },
  {
   "cell_type": "code",
   "execution_count": 11,
   "metadata": {},
   "outputs": [],
   "source": [
    "df.to_csv('../result/cell_type.tsv',sep='\\t',index=False)"
   ]
  },
  {
   "cell_type": "code",
   "execution_count": 15,
   "metadata": {},
   "outputs": [],
   "source": [
    "# Creating a lite info table \n",
    "lite_df = df.dropna(subset=['me-type']).copy(deep=True)"
   ]
  },
  {
   "cell_type": "code",
   "execution_count": 16,
   "metadata": {},
   "outputs": [],
   "source": [
    "drop_list=['specimen__id','donor__species','donor__name',\n",
    "           'specimen__name','structure__id','structure__name',\n",
    "           'ephys_thumb_path','ephys_inst_thresh_thumb_path',\n",
    "           'structure_parent__id','morph_thumb_path','donor__id',\n",
    "           'nr__reconstruction_type','nrwkf__id',\n",
    "           'erwkf__id','si__path']"
   ]
  },
  {
   "cell_type": "code",
   "execution_count": 17,
   "metadata": {},
   "outputs": [],
   "source": [
    "lite_df.drop(drop_list,axis=1,inplace=True)"
   ]
  },
  {
   "cell_type": "code",
   "execution_count": 18,
   "metadata": {},
   "outputs": [],
   "source": [
    "lite_df.to_csv('../result/cell_type_lite.tsv',sep='\\t',index=False)"
   ]
  },
  {
   "cell_type": "code",
   "execution_count": null,
   "metadata": {},
   "outputs": [],
   "source": []
  }
 ],
 "metadata": {
  "kernelspec": {
   "display_name": "Python 3",
   "language": "python",
   "name": "python3"
  },
  "language_info": {
   "codemirror_mode": {
    "name": "ipython",
    "version": 3
   },
   "file_extension": ".py",
   "mimetype": "text/x-python",
   "name": "python",
   "nbconvert_exporter": "python",
   "pygments_lexer": "ipython3",
   "version": "3.8.3"
  }
 },
 "nbformat": 4,
 "nbformat_minor": 4
}
