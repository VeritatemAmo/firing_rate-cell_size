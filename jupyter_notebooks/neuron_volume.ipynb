{
 "cells": [
  {
   "cell_type": "markdown",
   "metadata": {},
   "source": [
    "This Jupyter Notebook access the Allen Institute's Cell Type Database based on example script provided by Allen SDK (cell_types.ipynb). It then calculate the total volume of each neuron's reconstruction with the neuron_morphology package and export that data. "
   ]
  },
  {
   "cell_type": "code",
   "execution_count": 2,
   "metadata": {},
   "outputs": [],
   "source": [
    "from allensdk.core.cell_types_cache import CellTypesCache\n",
    "from allensdk.core.cell_types_cache import CellTypesCache\n",
    "from allensdk.api.queries.cell_types_api import CellTypesApi\n",
    "from allensdk.core.cell_types_cache import ReporterStatus as RS\n",
    "\n",
    "from neuron_morphology.features.size import total_volume\n",
    "from neuron_morphology.swc_io import morphology_from_swc\n",
    "from neuron_morphology.feature_extractor.data import Data\n",
    "from neuron_morphology.feature_extractor.data import MorphologyLike\n",
    "from neuron_morphology.feature_extractor.data import get_morphology\n",
    "\n",
    "import pprint\n",
    "import numpy as np\n",
    "import matplotlib.pyplot as plt\n",
    "import pandas as pd\n",
    "import seaborn as sns\n",
    "\n",
    "from pylmeasure import getOneMeasure"
   ]
  },
  {
   "cell_type": "code",
   "execution_count": 3,
   "metadata": {},
   "outputs": [],
   "source": [
    "from IPython.core.interactiveshell import InteractiveShell\n",
    "InteractiveShell.ast_node_interactivity = \"all\""
   ]
  },
  {
   "cell_type": "code",
   "execution_count": 4,
   "metadata": {},
   "outputs": [],
   "source": [
    "ctc = CellTypesCache(manifest_file='../data/cell_types/manifest.json')"
   ]
  },
  {
   "cell_type": "code",
   "execution_count": 8,
   "metadata": {},
   "outputs": [],
   "source": [
    "all_features = ctc.get_all_features()"
   ]
  },
  {
   "cell_type": "code",
   "execution_count": 11,
   "metadata": {},
   "outputs": [],
   "source": [
    "all_features_df = pd.DataFrame(all_features)"
   ]
  },
  {
   "cell_type": "code",
   "execution_count": 12,
   "metadata": {},
   "outputs": [
    {
     "data": {
      "text/plain": [
       "Index(['adaptation', 'avg_isi', 'electrode_0_pa', 'f_i_curve_slope',\n",
       "       'fast_trough_t_long_square', 'fast_trough_t_ramp',\n",
       "       'fast_trough_t_short_square', 'fast_trough_v_long_square',\n",
       "       'fast_trough_v_ramp', 'fast_trough_v_short_square', 'has_burst',\n",
       "       'has_delay', 'has_pause', 'id_x', 'input_resistance_mohm', 'latency',\n",
       "       'peak_t_long_square', 'peak_t_ramp', 'peak_t_short_square',\n",
       "       'peak_v_long_square', 'peak_v_ramp', 'peak_v_short_square',\n",
       "       'rheobase_sweep_id', 'rheobase_sweep_number', 'ri', 'sag', 'seal_gohm',\n",
       "       'slow_trough_t_long_square', 'slow_trough_t_ramp',\n",
       "       'slow_trough_t_short_square', 'slow_trough_v_long_square',\n",
       "       'slow_trough_v_ramp', 'slow_trough_v_short_square', 'specimen_id',\n",
       "       'tau', 'threshold_i_long_square', 'threshold_i_ramp',\n",
       "       'threshold_i_short_square', 'threshold_t_long_square',\n",
       "       'threshold_t_ramp', 'threshold_t_short_square',\n",
       "       'threshold_v_long_square', 'threshold_v_ramp',\n",
       "       'threshold_v_short_square', 'thumbnail_sweep_id',\n",
       "       'trough_t_long_square', 'trough_t_ramp', 'trough_t_short_square',\n",
       "       'trough_v_long_square', 'trough_v_ramp', 'trough_v_short_square',\n",
       "       'upstroke_downstroke_ratio_long_square',\n",
       "       'upstroke_downstroke_ratio_ramp',\n",
       "       'upstroke_downstroke_ratio_short_square', 'vm_for_sag', 'vrest',\n",
       "       'average_bifurcation_angle_local', 'average_bifurcation_angle_remote',\n",
       "       'average_contraction', 'average_diameter', 'average_fragmentation',\n",
       "       'average_parent_daughter_ratio', 'hausdorff_dimension', 'id_y',\n",
       "       'max_branch_order', 'max_euclidean_distance', 'max_path_distance',\n",
       "       'neuron_reconstruction_type', 'number_bifurcations', 'number_branches',\n",
       "       'number_nodes', 'number_stems', 'number_tips', 'overall_depth',\n",
       "       'overall_height', 'overall_width', 'scale_factor_x', 'scale_factor_y',\n",
       "       'scale_factor_z', 'soma_surface', 'superseded', 'tags', 'total_length',\n",
       "       'total_surface', 'total_volume'],\n",
       "      dtype='object')"
      ]
     },
     "execution_count": 12,
     "metadata": {},
     "output_type": "execute_result"
    }
   ],
   "source": [
    "all_features_df.columns"
   ]
  },
  {
   "cell_type": "code",
   "execution_count": null,
   "metadata": {},
   "outputs": [],
   "source": [
    "all_features_df[[\"total_volume\",]]"
   ]
  },
  {
   "cell_type": "code",
   "execution_count": 5,
   "metadata": {},
   "outputs": [],
   "source": [
    "# human cells with full reconstructions\n",
    "human_cells = ctc.get_cells(species=[CellTypesApi.HUMAN])\n",
    "full_human_cells = list(filter(lambda cell: cell['reconstruction_type'] == 'full', human_cells))\n",
    "# get mouse cells with full reconstructions \n",
    "mouse_cells = ctc.get_cells(species=[CellTypesApi.MOUSE])\n",
    "full_mouse_cells = list(filter(lambda cell: cell['reconstruction_type'] == 'full', mouse_cells))"
   ]
  },
  {
   "cell_type": "code",
   "execution_count": 6,
   "metadata": {},
   "outputs": [],
   "source": [
    "# Understanding the data structure\n",
    "# len(full_human_cells)\n",
    "# len(full_mouse_cells)\n",
    "# pd.DataFrame(full_human_cells)\n",
    "# pd.DataFrame(full_mouse_cells)\n",
    "# set(pd.DataFrame(full_human_cells)['structure_area_abbrev'])\n",
    "# set(pd.DataFrame(full_human_cells)['structure_layer_name'])\n",
    "# set(pd.DataFrame(full_human_cells)['disease_state'])\n",
    "# set(pd.DataFrame(full_mouse_cells)['structure_layer_name'])\n",
    "# set(pd.DataFrame(full_mouse_cells)['structure_area_abbrev'])\n",
    "# set(pd.DataFrame(full_mouse_cells)['transgenic_line'])"
   ]
  },
  {
   "cell_type": "code",
   "execution_count": 24,
   "metadata": {},
   "outputs": [],
   "source": [
    "# Calculating the total volume of the neuron \n",
    "# based on the reconstruction with two different methods\n",
    "df = pd.DataFrame(columns=['Species','Specimen_ID','Total_Volume'])\n",
    "\n",
    "for i, cell in enumerate(full_mouse_cells):\n",
    "    reconstruction = ctc.get_reconstruction(cell['id'])\n",
    "    path = '../data/cell_types/specimen_'+str(cell['id'])+'/reconstruction.swc'\n",
    "    morphology = morphology_from_swc(path)\n",
    "    data = Data(morphology)\n",
    "    volume = total_volume(data)\n",
    "    df = df.append(\n",
    "        {\n",
    "            'Species':'Mouse',\n",
    "            'Specimen_ID':cell['id'],\n",
    "            'Total_Volume':volume,\n",
    "        }, ignore_index=True)"
   ]
  },
  {
   "cell_type": "code",
   "execution_count": 25,
   "metadata": {},
   "outputs": [],
   "source": [
    "# do the same for human\n",
    "for i, cell in enumerate(full_human_cells):\n",
    "    reconstruction = ctc.get_reconstruction(cell['id'])\n",
    "    path = '../data/cell_types/specimen_'+str(cell['id'])+'/reconstruction.swc'\n",
    "    morphology = morphology_from_swc(path)\n",
    "    data = Data(morphology)\n",
    "    volume = total_volume(data)\n",
    "    df = df.append(\n",
    "        {\n",
    "            'Species':'Human',\n",
    "            'Specimen_ID':cell['id'],\n",
    "            'Total_Volume':volume,\n",
    "        }, ignore_index=True)"
   ]
  },
  {
   "cell_type": "code",
   "execution_count": 28,
   "metadata": {},
   "outputs": [],
   "source": [
    "# export the dataframe with total neuron volumes to a tsv file\n",
    "df.to_csv('../result/total_volume.tsv',sep='\\t',index=False)"
   ]
  },
  {
   "cell_type": "code",
   "execution_count": null,
   "metadata": {},
   "outputs": [],
   "source": []
  }
 ],
 "metadata": {
  "kernelspec": {
   "display_name": "Python 3",
   "language": "python",
   "name": "python3"
  },
  "language_info": {
   "codemirror_mode": {
    "name": "ipython",
    "version": 3
   },
   "file_extension": ".py",
   "mimetype": "text/x-python",
   "name": "python",
   "nbconvert_exporter": "python",
   "pygments_lexer": "ipython3",
   "version": "3.8.3"
  }
 },
 "nbformat": 4,
 "nbformat_minor": 4
}
