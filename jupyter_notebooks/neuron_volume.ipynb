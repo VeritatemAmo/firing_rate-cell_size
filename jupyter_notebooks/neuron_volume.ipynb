{
 "cells": [
  {
   "cell_type": "markdown",
   "metadata": {},
   "source": [
    "This Jupyter Notebook access the Allen Institute's Cell Type Database based on example script provided by Allen SDK (cell_types.ipynb). It then calculate the total volume of each neuron's reconstruction with the neuron_morphology package and export that data. "
   ]
  },
  {
   "cell_type": "code",
   "execution_count": 1,
   "metadata": {},
   "outputs": [],
   "source": [
    "from allensdk.core.cell_types_cache import CellTypesCache\n",
    "from allensdk.core.cell_types_cache import CellTypesCache\n",
    "from allensdk.api.queries.cell_types_api import CellTypesApi\n",
    "from allensdk.core.cell_types_cache import ReporterStatus as RS\n",
    "\n",
    "from neuron_morphology.features.size import total_volume\n",
    "from neuron_morphology.features.size import total_surface_area\n",
    "from neuron_morphology.swc_io import morphology_from_swc\n",
    "from neuron_morphology.feature_extractor.data import Data\n",
    "from neuron_morphology.feature_extractor.data import MorphologyLike\n",
    "from neuron_morphology.feature_extractor.data import get_morphology\n",
    "\n",
    "import pprint\n",
    "import numpy as np\n",
    "import matplotlib.pyplot as plt\n",
    "import pandas as pd\n",
    "import seaborn as sns\n",
    "\n",
    "from pylmeasure import getOneMeasure"
   ]
  },
  {
   "cell_type": "code",
   "execution_count": 2,
   "metadata": {},
   "outputs": [],
   "source": [
    "from IPython.core.interactiveshell import InteractiveShell\n",
    "InteractiveShell.ast_node_interactivity = \"all\""
   ]
  },
  {
   "cell_type": "code",
   "execution_count": 3,
   "metadata": {},
   "outputs": [],
   "source": [
    "ctc = CellTypesCache(manifest_file='../data/cell_types/manifest.json')"
   ]
  },
  {
   "cell_type": "code",
   "execution_count": 4,
   "metadata": {},
   "outputs": [],
   "source": [
    "all_features = ctc.get_all_features()"
   ]
  },
  {
   "cell_type": "code",
   "execution_count": 5,
   "metadata": {},
   "outputs": [],
   "source": [
    "all_features_df = pd.DataFrame(all_features)"
   ]
  },
  {
   "cell_type": "code",
   "execution_count": 6,
   "metadata": {},
   "outputs": [
    {
     "data": {
      "text/plain": [
       "Index(['adaptation', 'avg_isi', 'electrode_0_pa', 'f_i_curve_slope',\n",
       "       'fast_trough_t_long_square', 'fast_trough_t_ramp',\n",
       "       'fast_trough_t_short_square', 'fast_trough_v_long_square',\n",
       "       'fast_trough_v_ramp', 'fast_trough_v_short_square', 'has_burst',\n",
       "       'has_delay', 'has_pause', 'id_x', 'input_resistance_mohm', 'latency',\n",
       "       'peak_t_long_square', 'peak_t_ramp', 'peak_t_short_square',\n",
       "       'peak_v_long_square', 'peak_v_ramp', 'peak_v_short_square',\n",
       "       'rheobase_sweep_id', 'rheobase_sweep_number', 'ri', 'sag', 'seal_gohm',\n",
       "       'slow_trough_t_long_square', 'slow_trough_t_ramp',\n",
       "       'slow_trough_t_short_square', 'slow_trough_v_long_square',\n",
       "       'slow_trough_v_ramp', 'slow_trough_v_short_square', 'specimen_id',\n",
       "       'tau', 'threshold_i_long_square', 'threshold_i_ramp',\n",
       "       'threshold_i_short_square', 'threshold_t_long_square',\n",
       "       'threshold_t_ramp', 'threshold_t_short_square',\n",
       "       'threshold_v_long_square', 'threshold_v_ramp',\n",
       "       'threshold_v_short_square', 'thumbnail_sweep_id',\n",
       "       'trough_t_long_square', 'trough_t_ramp', 'trough_t_short_square',\n",
       "       'trough_v_long_square', 'trough_v_ramp', 'trough_v_short_square',\n",
       "       'upstroke_downstroke_ratio_long_square',\n",
       "       'upstroke_downstroke_ratio_ramp',\n",
       "       'upstroke_downstroke_ratio_short_square', 'vm_for_sag', 'vrest',\n",
       "       'average_bifurcation_angle_local', 'average_bifurcation_angle_remote',\n",
       "       'average_contraction', 'average_diameter', 'average_fragmentation',\n",
       "       'average_parent_daughter_ratio', 'hausdorff_dimension', 'id_y',\n",
       "       'max_branch_order', 'max_euclidean_distance', 'max_path_distance',\n",
       "       'neuron_reconstruction_type', 'number_bifurcations', 'number_branches',\n",
       "       'number_nodes', 'number_stems', 'number_tips', 'overall_depth',\n",
       "       'overall_height', 'overall_width', 'scale_factor_x', 'scale_factor_y',\n",
       "       'scale_factor_z', 'soma_surface', 'superseded', 'tags', 'total_length',\n",
       "       'total_surface', 'total_volume'],\n",
       "      dtype='object')"
      ]
     },
     "execution_count": 6,
     "metadata": {},
     "output_type": "execute_result"
    }
   ],
   "source": [
    "all_features_df.columns"
   ]
  },
  {
   "cell_type": "code",
   "execution_count": 7,
   "metadata": {},
   "outputs": [
    {
     "data": {
      "text/html": [
       "<div>\n",
       "<style scoped>\n",
       "    .dataframe tbody tr th:only-of-type {\n",
       "        vertical-align: middle;\n",
       "    }\n",
       "\n",
       "    .dataframe tbody tr th {\n",
       "        vertical-align: top;\n",
       "    }\n",
       "\n",
       "    .dataframe thead th {\n",
       "        text-align: right;\n",
       "    }\n",
       "</style>\n",
       "<table border=\"1\" class=\"dataframe\">\n",
       "  <thead>\n",
       "    <tr style=\"text-align: right;\">\n",
       "      <th></th>\n",
       "      <th>total_volume</th>\n",
       "    </tr>\n",
       "  </thead>\n",
       "  <tbody>\n",
       "    <tr>\n",
       "      <th>0</th>\n",
       "      <td>2355.765059</td>\n",
       "    </tr>\n",
       "    <tr>\n",
       "      <th>1</th>\n",
       "      <td>2962.024123</td>\n",
       "    </tr>\n",
       "    <tr>\n",
       "      <th>2</th>\n",
       "      <td>460.354199</td>\n",
       "    </tr>\n",
       "    <tr>\n",
       "      <th>3</th>\n",
       "      <td>129.985840</td>\n",
       "    </tr>\n",
       "    <tr>\n",
       "      <th>4</th>\n",
       "      <td>204.115177</td>\n",
       "    </tr>\n",
       "    <tr>\n",
       "      <th>...</th>\n",
       "      <td>...</td>\n",
       "    </tr>\n",
       "    <tr>\n",
       "      <th>696</th>\n",
       "      <td>438.463505</td>\n",
       "    </tr>\n",
       "    <tr>\n",
       "      <th>697</th>\n",
       "      <td>38.494166</td>\n",
       "    </tr>\n",
       "    <tr>\n",
       "      <th>698</th>\n",
       "      <td>257.901659</td>\n",
       "    </tr>\n",
       "    <tr>\n",
       "      <th>699</th>\n",
       "      <td>1262.798669</td>\n",
       "    </tr>\n",
       "    <tr>\n",
       "      <th>700</th>\n",
       "      <td>1262.798767</td>\n",
       "    </tr>\n",
       "  </tbody>\n",
       "</table>\n",
       "<p>701 rows × 1 columns</p>\n",
       "</div>"
      ],
      "text/plain": [
       "     total_volume\n",
       "0     2355.765059\n",
       "1     2962.024123\n",
       "2      460.354199\n",
       "3      129.985840\n",
       "4      204.115177\n",
       "..            ...\n",
       "696    438.463505\n",
       "697     38.494166\n",
       "698    257.901659\n",
       "699   1262.798669\n",
       "700   1262.798767\n",
       "\n",
       "[701 rows x 1 columns]"
      ]
     },
     "execution_count": 7,
     "metadata": {},
     "output_type": "execute_result"
    }
   ],
   "source": [
    "all_features_df[[\"total_volume\",]] # Precalculated volume. We will be calculating the volume with neuron_morphology instead"
   ]
  },
  {
   "cell_type": "code",
   "execution_count": 8,
   "metadata": {},
   "outputs": [],
   "source": [
    "# human cells with full reconstructions\n",
    "human_cells = ctc.get_cells(species=[CellTypesApi.HUMAN])\n",
    "full_human_cells = list(filter(lambda cell: cell['reconstruction_type'] == 'full', human_cells))\n",
    "# get mouse cells with full reconstructions \n",
    "mouse_cells = ctc.get_cells(species=[CellTypesApi.MOUSE])\n",
    "full_mouse_cells = list(filter(lambda cell: cell['reconstruction_type'] == 'full', mouse_cells))\n",
    "# get all cells with full reconstructions \n",
    "all_cells = ctc.get_cells()\n",
    "full_all_cells = list(filter(lambda cell: cell['reconstruction_type'] == 'full', all_cells))"
   ]
  },
  {
   "cell_type": "code",
   "execution_count": 9,
   "metadata": {},
   "outputs": [
    {
     "data": {
      "text/plain": [
       "{'Homo Sapiens', 'Mus musculus'}"
      ]
     },
     "execution_count": 9,
     "metadata": {},
     "output_type": "execute_result"
    }
   ],
   "source": [
    "set(pd.DataFrame(full_all_cells)['species']) # There are only two species with ctc.get_cells()"
   ]
  },
  {
   "cell_type": "code",
   "execution_count": 6,
   "metadata": {},
   "outputs": [],
   "source": [
    "# Understanding the data structure\n",
    "# len(full_human_cells)\n",
    "# len(full_mouse_cells)\n",
    "# pd.DataFrame(full_human_cells)\n",
    "# pd.DataFrame(full_mouse_cells)\n",
    "# set(pd.DataFrame(full_human_cells)['structure_area_abbrev'])\n",
    "# set(pd.DataFrame(full_human_cells)['structure_layer_name'])\n",
    "# set(pd.DataFrame(full_human_cells)['disease_state'])\n",
    "# set(pd.DataFrame(full_mouse_cells)['structure_layer_name'])\n",
    "# set(pd.DataFrame(full_mouse_cells)['structure_area_abbrev'])\n",
    "# set(pd.DataFrame(full_mouse_cells)['transgenic_line'])"
   ]
  },
  {
   "cell_type": "code",
   "execution_count": 12,
   "metadata": {},
   "outputs": [],
   "source": [
    "# Calculating the total volume of the neuron \n",
    "# based on the reconstruction with two different methods\n",
    "df = pd.DataFrame(columns=['Species','Specimen_ID','Total_Volume','Total_Surface_Area'])\n",
    "\n",
    "for i, cell in enumerate(full_mouse_cells):\n",
    "    reconstruction = ctc.get_reconstruction(cell['id'])\n",
    "    path = '../data/cell_types/specimen_'+str(cell['id'])+'/reconstruction.swc'\n",
    "    morphology = morphology_from_swc(path)\n",
    "    data = Data(morphology)\n",
    "    volume = total_volume(data)\n",
    "    surface = total_surface_area(data)\n",
    "    df = df.append(\n",
    "        {\n",
    "            'Species':'Mouse',\n",
    "            'Specimen_ID':cell['id'],\n",
    "            'Total_Volume':volume,\n",
    "            'Total_Surface_Area':surface\n",
    "        }, ignore_index=True)"
   ]
  },
  {
   "cell_type": "code",
   "execution_count": 13,
   "metadata": {},
   "outputs": [],
   "source": [
    "# do the same for human\n",
    "for i, cell in enumerate(full_human_cells):\n",
    "    reconstruction = ctc.get_reconstruction(cell['id'])\n",
    "    path = '../data/cell_types/specimen_'+str(cell['id'])+'/reconstruction.swc'\n",
    "    morphology = morphology_from_swc(path)\n",
    "    data = Data(morphology)\n",
    "    volume = total_volume(data)\n",
    "    surface = total_surface_area(data)\n",
    "    df = df.append(\n",
    "        {\n",
    "            'Species':'Human',\n",
    "            'Specimen_ID':cell['id'],\n",
    "            'Total_Volume':volume,\n",
    "            'Total_Surface_Area':surface\n",
    "        }, ignore_index=True)"
   ]
  },
  {
   "cell_type": "code",
   "execution_count": 14,
   "metadata": {},
   "outputs": [
    {
     "data": {
      "text/html": [
       "<div>\n",
       "<style scoped>\n",
       "    .dataframe tbody tr th:only-of-type {\n",
       "        vertical-align: middle;\n",
       "    }\n",
       "\n",
       "    .dataframe tbody tr th {\n",
       "        vertical-align: top;\n",
       "    }\n",
       "\n",
       "    .dataframe thead th {\n",
       "        text-align: right;\n",
       "    }\n",
       "</style>\n",
       "<table border=\"1\" class=\"dataframe\">\n",
       "  <thead>\n",
       "    <tr style=\"text-align: right;\">\n",
       "      <th></th>\n",
       "      <th>Species</th>\n",
       "      <th>Specimen_ID</th>\n",
       "      <th>Total_Volume</th>\n",
       "      <th>Total_Surface_Area</th>\n",
       "    </tr>\n",
       "  </thead>\n",
       "  <tbody>\n",
       "    <tr>\n",
       "      <th>0</th>\n",
       "      <td>Mouse</td>\n",
       "      <td>555241040</td>\n",
       "      <td>3149.566951</td>\n",
       "      <td>16978.569840</td>\n",
       "    </tr>\n",
       "    <tr>\n",
       "      <th>1</th>\n",
       "      <td>Mouse</td>\n",
       "      <td>530737765</td>\n",
       "      <td>3417.700939</td>\n",
       "      <td>14300.780164</td>\n",
       "    </tr>\n",
       "    <tr>\n",
       "      <th>2</th>\n",
       "      <td>Mouse</td>\n",
       "      <td>584872371</td>\n",
       "      <td>1615.318717</td>\n",
       "      <td>6285.053057</td>\n",
       "    </tr>\n",
       "    <tr>\n",
       "      <th>3</th>\n",
       "      <td>Mouse</td>\n",
       "      <td>574038330</td>\n",
       "      <td>3222.967900</td>\n",
       "      <td>22409.034832</td>\n",
       "    </tr>\n",
       "    <tr>\n",
       "      <th>4</th>\n",
       "      <td>Mouse</td>\n",
       "      <td>477127614</td>\n",
       "      <td>1757.481249</td>\n",
       "      <td>7014.864704</td>\n",
       "    </tr>\n",
       "    <tr>\n",
       "      <th>...</th>\n",
       "      <td>...</td>\n",
       "      <td>...</td>\n",
       "      <td>...</td>\n",
       "      <td>...</td>\n",
       "    </tr>\n",
       "    <tr>\n",
       "      <th>362</th>\n",
       "      <td>Human</td>\n",
       "      <td>508298270</td>\n",
       "      <td>16576.774950</td>\n",
       "      <td>32865.641133</td>\n",
       "    </tr>\n",
       "    <tr>\n",
       "      <th>363</th>\n",
       "      <td>Human</td>\n",
       "      <td>545612828</td>\n",
       "      <td>27087.010782</td>\n",
       "      <td>72925.066196</td>\n",
       "    </tr>\n",
       "    <tr>\n",
       "      <th>364</th>\n",
       "      <td>Human</td>\n",
       "      <td>527952884</td>\n",
       "      <td>2222.127063</td>\n",
       "      <td>10985.598278</td>\n",
       "    </tr>\n",
       "    <tr>\n",
       "      <th>365</th>\n",
       "      <td>Human</td>\n",
       "      <td>561469082</td>\n",
       "      <td>7546.625958</td>\n",
       "      <td>26345.466899</td>\n",
       "    </tr>\n",
       "    <tr>\n",
       "      <th>366</th>\n",
       "      <td>Human</td>\n",
       "      <td>601958555</td>\n",
       "      <td>14274.425162</td>\n",
       "      <td>31837.874842</td>\n",
       "    </tr>\n",
       "  </tbody>\n",
       "</table>\n",
       "<p>367 rows × 4 columns</p>\n",
       "</div>"
      ],
      "text/plain": [
       "    Species Specimen_ID  Total_Volume  Total_Surface_Area\n",
       "0     Mouse   555241040   3149.566951        16978.569840\n",
       "1     Mouse   530737765   3417.700939        14300.780164\n",
       "2     Mouse   584872371   1615.318717         6285.053057\n",
       "3     Mouse   574038330   3222.967900        22409.034832\n",
       "4     Mouse   477127614   1757.481249         7014.864704\n",
       "..      ...         ...           ...                 ...\n",
       "362   Human   508298270  16576.774950        32865.641133\n",
       "363   Human   545612828  27087.010782        72925.066196\n",
       "364   Human   527952884   2222.127063        10985.598278\n",
       "365   Human   561469082   7546.625958        26345.466899\n",
       "366   Human   601958555  14274.425162        31837.874842\n",
       "\n",
       "[367 rows x 4 columns]"
      ]
     },
     "execution_count": 14,
     "metadata": {},
     "output_type": "execute_result"
    }
   ],
   "source": [
    "df"
   ]
  },
  {
   "cell_type": "code",
   "execution_count": 15,
   "metadata": {},
   "outputs": [],
   "source": [
    "# export the dataframe with total neuron volumes to a tsv file\n",
    "# df.to_csv('../result/total_volume.tsv',sep='\\t',index=False)\n",
    "df.to_csv('../result/total_volume_et_surface.tsv',sep='\\t',index=False)"
   ]
  },
  {
   "cell_type": "code",
   "execution_count": null,
   "metadata": {},
   "outputs": [],
   "source": []
  }
 ],
 "metadata": {
  "kernelspec": {
   "display_name": "Python 3",
   "language": "python",
   "name": "python3"
  },
  "language_info": {
   "codemirror_mode": {
    "name": "ipython",
    "version": 3
   },
   "file_extension": ".py",
   "mimetype": "text/x-python",
   "name": "python",
   "nbconvert_exporter": "python",
   "pygments_lexer": "ipython3",
   "version": "3.8.3"
  }
 },
 "nbformat": 4,
 "nbformat_minor": 4
}
