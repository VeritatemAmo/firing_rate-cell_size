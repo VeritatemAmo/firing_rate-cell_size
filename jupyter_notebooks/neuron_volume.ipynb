{
 "cells": [
  {
   "cell_type": "markdown",
   "metadata": {},
   "source": [
    "This Jupyter Notebook access the Allen Institute's Cell Type Database based on example script provided by Allen SDK (cell_types.ipynb). It then calculate the total volume of each neuron's reconstruction and export that data. "
   ]
  },
  {
   "cell_type": "code",
   "execution_count": 1,
   "metadata": {},
   "outputs": [],
   "source": [
    "from allensdk.core.cell_types_cache import CellTypesCache\n",
    "from allensdk.core.cell_types_cache import CellTypesCache\n",
    "from allensdk.api.queries.cell_types_api import CellTypesApi\n",
    "from allensdk.core.cell_types_cache import ReporterStatus as RS\n",
    "\n",
    "from neuron_morphology.features.size import total_volume\n",
    "from neuron_morphology.swc_io import morphology_from_swc\n",
    "from neuron_morphology.feature_extractor.data import Data\n",
    "from neuron_morphology.feature_extractor.data import MorphologyLike\n",
    "from neuron_morphology.feature_extractor.data import get_morphology\n",
    "\n",
    "import pprint\n",
    "import numpy as np\n",
    "import matplotlib.pyplot as plt\n",
    "import pandas as pd\n",
    "import seaborn as sns\n",
    "\n",
    "from pylmeasure import getOneMeasure"
   ]
  },
  {
   "cell_type": "code",
   "execution_count": 2,
   "metadata": {},
   "outputs": [],
   "source": [
    "from IPython.core.interactiveshell import InteractiveShell\n",
    "InteractiveShell.ast_node_interactivity = \"all\""
   ]
  },
  {
   "cell_type": "code",
   "execution_count": 3,
   "metadata": {},
   "outputs": [],
   "source": [
    "%matplotlib inline"
   ]
  },
  {
   "cell_type": "code",
   "execution_count": 4,
   "metadata": {},
   "outputs": [],
   "source": [
    "ctc = CellTypesCache(manifest_file='../data/cell_types/manifest.json')"
   ]
  },
  {
   "cell_type": "code",
   "execution_count": 5,
   "metadata": {},
   "outputs": [],
   "source": [
    "# human cells with full reconstructions\n",
    "human_cells = ctc.get_cells(species=[CellTypesApi.HUMAN])\n",
    "full_human_cells = list(filter(lambda cell: cell['reconstruction_type'] == 'full', human_cells))\n",
    "# get mouse cells with full reconstructions \n",
    "mouse_cells = ctc.get_cells(species=[CellTypesApi.MOUSE])\n",
    "full_mouse_cells = list(filter(lambda cell: cell['reconstruction_type'] == 'full', mouse_cells))"
   ]
  },
  {
   "cell_type": "code",
   "execution_count": 6,
   "metadata": {},
   "outputs": [],
   "source": [
    "# Understanding the data structure\n",
    "# len(full_human_cells)\n",
    "# len(full_mouse_cells)\n",
    "# pd.DataFrame(full_human_cells)\n",
    "# pd.DataFrame(full_mouse_cells)\n",
    "# set(pd.DataFrame(full_human_cells)['structure_area_abbrev'])\n",
    "# set(pd.DataFrame(full_human_cells)['structure_layer_name'])\n",
    "# set(pd.DataFrame(full_human_cells)['disease_state'])\n",
    "# set(pd.DataFrame(full_mouse_cells)['structure_layer_name'])\n",
    "# set(pd.DataFrame(full_mouse_cells)['structure_area_abbrev'])\n",
    "# set(pd.DataFrame(full_mouse_cells)['transgenic_line'])"
   ]
  },
  {
   "cell_type": "code",
   "execution_count": 24,
   "metadata": {},
   "outputs": [],
   "source": [
    "# Calculating the total volume of the neuron \n",
    "# based on the reconstruction with two different methods\n",
    "df = pd.DataFrame(columns=['Species','Specimen_ID','Total_Volume'])\n",
    "\n",
    "for i, cell in enumerate(full_mouse_cells):\n",
    "    reconstruction = ctc.get_reconstruction(cell['id'])\n",
    "    path = '../data/cell_types/specimen_'+str(cell['id'])+'/reconstruction.swc'\n",
    "    morphology = morphology_from_swc(path)\n",
    "    data = Data(morphology)\n",
    "    volume = total_volume(data)\n",
    "    df = df.append(\n",
    "        {\n",
    "            'Species':'Mouse',\n",
    "            'Specimen_ID':cell['id'],\n",
    "            'Total_Volume':volume,\n",
    "        }, ignore_index=True)"
   ]
  },
  {
   "cell_type": "code",
   "execution_count": 25,
   "metadata": {},
   "outputs": [],
   "source": [
    "# do the same for human\n",
    "for i, cell in enumerate(full_human_cells):\n",
    "    reconstruction = ctc.get_reconstruction(cell['id'])\n",
    "    path = '../data/cell_types/specimen_'+str(cell['id'])+'/reconstruction.swc'\n",
    "    morphology = morphology_from_swc(path)\n",
    "    data = Data(morphology)\n",
    "    volume = total_volume(data)\n",
    "    df = df.append(\n",
    "        {\n",
    "            'Species':'Human',\n",
    "            'Specimen_ID':cell['id'],\n",
    "            'Total_Volume':volume,\n",
    "        }, ignore_index=True)"
   ]
  },
  {
   "cell_type": "code",
   "execution_count": 28,
   "metadata": {},
   "outputs": [],
   "source": [
    "# export the dataframe with total neuron volumes to a tsv file\n",
    "df.to_csv('../result/total_volume.tsv',sep='\\t',index=False)"
   ]
  }
 ],
 "metadata": {
  "kernelspec": {
   "display_name": "Python 3",
   "language": "python",
   "name": "python3"
  },
  "language_info": {
   "codemirror_mode": {
    "name": "ipython",
    "version": 3
   },
   "file_extension": ".py",
   "mimetype": "text/x-python",
   "name": "python",
   "nbconvert_exporter": "python",
   "pygments_lexer": "ipython3",
   "version": "3.8.3"
  }
 },
 "nbformat": 4,
 "nbformat_minor": 4
}
