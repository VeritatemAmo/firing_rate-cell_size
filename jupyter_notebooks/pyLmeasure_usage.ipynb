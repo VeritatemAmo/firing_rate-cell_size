{
 "cells": [
  {
   "cell_type": "code",
   "execution_count": 1,
   "metadata": {},
   "outputs": [],
   "source": [
    "from pylmeasure import *\n",
    "import matplotlib.pyplot as plt\n",
    "from pprint import pprint as pp"
   ]
  },
  {
   "cell_type": "code",
   "execution_count": 2,
   "metadata": {},
   "outputs": [],
   "source": [
    "# Define a list of one or more SWC files to analyze\n",
    "swcFiles = ['tests/testFiles/HB130408-1NS_VB.swc', 'tests/testFiles/D00V00C00S00_3ptSoma.swc']\n",
    "\n",
    "swcFile = swcFiles[0]"
   ]
  },
  {
   "cell_type": "markdown",
   "metadata": {},
   "source": [
    "## Single Measure, Single File Example\n",
    "\n",
    "Compute one measure of one SWC file"
   ]
  },
  {
   "cell_type": "code",
   "execution_count": 3,
   "metadata": {},
   "outputs": [
    {
     "name": "stdout",
     "output_type": "stream",
     "text": [
      "('Surface area of first file:', 49599.4)\n"
     ]
    }
   ],
   "source": [
    "# Specify the L-Measures to compute (case-sensitive)\n",
    "# Full list: http://cng.gmu.edu:8080/Lm/help/index.htm)\n",
    "LMOutput = getOneMeasure('Surface', swcFile)\n",
    "\n",
    "print(\"Surface area of first file:\",  LMOutput[\"TotalSum\"])"
   ]
  },
  {
   "cell_type": "code",
   "execution_count": 4,
   "metadata": {},
   "outputs": [
    {
     "name": "stdout",
     "output_type": "stream",
     "text": [
      "('Mean diameter in first file:', 1.46796)\n"
     ]
    }
   ],
   "source": [
    "LMOutput = getOneMeasure('Diameter', swcFile)\n",
    "\n",
    "print(\"Mean diameter in first file:\", LMOutput[\"Average\"])"
   ]
  },
  {
   "cell_type": "code",
   "execution_count": 5,
   "metadata": {},
   "outputs": [
    {
     "data": {
      "text/plain": [
       "{'Average': 1.46796,\n",
       " 'CompartmentsConsidered': 11677.0,\n",
       " 'CompartmentsDiscarded': 0.0,\n",
       " 'Maximum': 4.748,\n",
       " 'Minimum': 0.406,\n",
       " 'StdDev': 0.728944,\n",
       " 'TotalSum': 17141.4}"
      ]
     },
     "execution_count": 5,
     "metadata": {},
     "output_type": "execute_result"
    }
   ],
   "source": [
    "LMOutput"
   ]
  },
  {
   "cell_type": "markdown",
   "metadata": {},
   "source": [
    "## Multiple Measures, Multiple Files Example\n",
    "\n",
    "Compute a list of measures of multiple SWC files"
   ]
  },
  {
   "cell_type": "code",
   "execution_count": 6,
   "metadata": {},
   "outputs": [
    {
     "name": "stdout",
     "output_type": "stream",
     "text": [
      "('Surface area of first file:', 49599.4)\n",
      "('Mean diameter in first file:', 1.46796)\n"
     ]
    }
   ],
   "source": [
    "LMOutput = getMeasure(['Surface', 'Diameter'], swcFiles)\n",
    "\n",
    "#                                              V-- measure index           V-- file index\n",
    "print(\"Surface area of first file:\",  LMOutput[0][\"WholeCellMeasuresDict\"][0][\"TotalSum\"])\n",
    "print(\"Mean diameter in first file:\", LMOutput[1][\"WholeCellMeasuresDict\"][0][\"Average\"])"
   ]
  },
  {
   "cell_type": "code",
   "execution_count": 7,
   "metadata": {},
   "outputs": [
    {
     "name": "stdout",
     "output_type": "stream",
     "text": [
      "('Surface area of 2nd file:', 41398.9)\n",
      "('Mean diameter in 2nd file:', 1.34663)\n"
     ]
    }
   ],
   "source": [
    "print(\"Surface area of 2nd file:\",    LMOutput[0][\"WholeCellMeasuresDict\"][1][\"TotalSum\"])\n",
    "print(\"Mean diameter in 2nd file:\",   LMOutput[1][\"WholeCellMeasuresDict\"][1][\"Average\"])"
   ]
  },
  {
   "cell_type": "code",
   "execution_count": 8,
   "metadata": {},
   "outputs": [
    {
     "name": "stdout",
     "output_type": "stream",
     "text": [
      "Diameter stats of first file\n",
      "{'Average': 1.46796,\n",
      " 'CompartmentsConsidered': 11677.0,\n",
      " 'CompartmentsDiscarded': 0.0,\n",
      " 'Maximum': 4.748,\n",
      " 'Minimum': 0.406,\n",
      " 'StdDev': 0.728944,\n",
      " 'TotalSum': 17141.4}\n"
     ]
    }
   ],
   "source": [
    "print(\"Diameter stats of first file\")\n",
    "pp(LMOutput[1][\"WholeCellMeasuresDict\"][0])"
   ]
  },
  {
   "cell_type": "markdown",
   "metadata": {},
   "source": [
    "# Distribution Example\n",
    "\n",
    "This example computes the distribution of a measure"
   ]
  },
  {
   "cell_type": "code",
   "execution_count": 9,
   "metadata": {},
   "outputs": [],
   "source": [
    "LMOutput = getMeasureDistribution(['Diameter', \"Daughter_Ratio\"], swcFiles, nBins=21)\n",
    "\n",
    "file = 0\n",
    "plt.bar(LMOutput[0]['measure1BinCentres'][file], LMOutput[0]['measure1BinCounts'][file])\n",
    "plt.title(\"File 1 Diameter Distribution\")\n",
    "plt.show(block=False)\n",
    "\n",
    "plt.bar(LMOutput[1]['measure1BinCentres'][file], LMOutput[1]['measure1BinCounts'][file])\n",
    "plt.title(\"File 1 Daughter Ratio Distribution\")\n",
    "plt.show(block=False)"
   ]
  },
  {
   "cell_type": "code",
   "execution_count": 10,
   "metadata": {},
   "outputs": [
    {
     "data": {
      "image/png": "[encoded data removed]",
      "text/plain": [
       "<Figure size 432x288 with 1 Axes>"
      ]
     },
     "metadata": {},
     "output_type": "display_data"
    },
    {
     "data": {
      "image/png": "[encoded data removed]",
      "text/plain": [
       "<Figure size 432x288 with 1 Axes>"
      ]
     },
     "metadata": {},
     "output_type": "display_data"
    }
   ],
   "source": [
    "file = 1\n",
    "plt.bar(LMOutput[0]['measure1BinCentres'][file], LMOutput[0]['measure1BinCounts'][file])\n",
    "plt.title(\"File 2 Diameter Distribution\")\n",
    "plt.show(block=False)\n",
    "\n",
    "plt.bar(LMOutput[1]['measure1BinCentres'][file], LMOutput[1]['measure1BinCounts'][file])\n",
    "plt.title(\"File 2 Daughter Ratio Distribution\")\n",
    "plt.show(block=False)"
   ]
  },
  {
   "cell_type": "markdown",
   "metadata": {},
   "source": [
    "# One measure vs another (bin sums)\n",
    "\n",
    "Compute the dependence of one measure on another"
   ]
  },
  {
   "cell_type": "code",
   "execution_count": 11,
   "metadata": {},
   "outputs": [
    {
     "data": {
      "image/png": "[encoded data removed]",
      "text/plain": [
       "<Figure size 432x288 with 1 Axes>"
      ]
     },
     "metadata": {},
     "output_type": "display_data"
    }
   ],
   "source": [
    "LMOutput = getMeasureDependence(['N_bifs'], ['PathDistance'], swcFiles, nBins=55, average=False)\n",
    "\n",
    "plt.plot(LMOutput[0]['measure1BinCentres'][0], LMOutput[0]['measure2BinSums'][0], 'bo')\n",
    "plt.plot(LMOutput[0]['measure1BinCentres'][1], LMOutput[0]['measure2BinSums'][1], 'ro')\n",
    "plt.title(\"Number of Branch Points as a function of Path Distance from Soma. Blue: File 1, Red: File 2\")\n",
    "plt.show(block=False)"
   ]
  },
  {
   "cell_type": "markdown",
   "metadata": {},
   "source": [
    "# One measure vs another (bin means + stdevs)\n",
    "\n",
    "Compute the dependence of one measure on another"
   ]
  },
  {
   "cell_type": "code",
   "execution_count": 12,
   "metadata": {},
   "outputs": [
    {
     "data": {
      "image/png": "[encoded data removed]",
      "text/plain": [
       "<Figure size 432x288 with 1 Axes>"
      ]
     },
     "metadata": {},
     "output_type": "display_data"
    },
    {
     "data": {
      "image/png": "[encoded data removed]",
      "text/plain": [
       "<Figure size 432x288 with 1 Axes>"
      ]
     },
     "metadata": {},
     "output_type": "display_data"
    }
   ],
   "source": [
    "LMOutput = getMeasureDependence(['Diameter'], ['EucDistance'], swcFiles, nBins=21, average=True)\n",
    "plt.figure()\n",
    "plt.errorbar(LMOutput[0]['measure1BinCentres'][0],\n",
    "             LMOutput[0]['measure2BinAverages'][0],\n",
    "             LMOutput[0]['measure2BinStdDevs'][0],\n",
    "                color='r', ls='-', marker='o', ms=5, mfc='r')\n",
    "plt.title(\"File 1: Diameter as a function of Distance from Soma\")\n",
    "plt.draw()\n",
    "plt.show(block=False)\n",
    "\n",
    "\n",
    "plt.figure()\n",
    "plt.errorbar(LMOutput[0]['measure1BinCentres'][1],\n",
    "             LMOutput[0]['measure2BinAverages'][1],\n",
    "             LMOutput[0]['measure2BinStdDevs'][1],\n",
    "                color='b', ls='-', marker='o', ms=5, mfc='b')\n",
    "plt.title(\"File 2: Diameter as a function of Distance from Soma\")\n",
    "plt.draw()\n",
    "plt.show(block=False)"
   ]
  },
  {
   "cell_type": "markdown",
   "metadata": {},
   "source": [
    "# Filtering segments before computing metrics (e.g. \"specificity panel\")\n",
    "\n",
    "You can specify one or more filters for L-Measure to use before performing computations (see the [Specificity panel documentation](http://cng.gmu.edu:8080/Lm/help/index.htm))\n",
    "\n",
    "The filters can be passed into any of the above getXYZ... functions.\n",
    "\n",
    "For a single condition, the format is:\n",
    "\n",
    "`[L-Measure Function] [>|<|==] [number]`\n",
    "   \n",
    "For multiple conditions (as many as needed):\n",
    "\n",
    "`[L-Measure Function] [>|<|==] [number] [and|or] [L-Measure Function] [>|<|==] [number]`"
   ]
  },
  {
   "cell_type": "code",
   "execution_count": 13,
   "metadata": {},
   "outputs": [
    {
     "data": {
      "text/plain": [
       "{'Average': 2.34,\n",
       " 'CompartmentsConsidered': 3.0,\n",
       " 'CompartmentsDiscarded': 11674.0,\n",
       " 'Maximum': 2.34,\n",
       " 'Minimum': 2.34,\n",
       " 'StdDev': 0.0,\n",
       " 'TotalSum': 7.02}"
      ]
     },
     "execution_count": 13,
     "metadata": {},
     "output_type": "execute_result"
    }
   ],
   "source": [
    "# Compute the diameter statistics of the soma (in LMeasure, soma elements have Type=1)\n",
    "LMOutput = getOneMeasure('Diameter', swcFile, specificity=\"Type == 1\")\n",
    "LMOutput"
   ]
  },
  {
   "cell_type": "code",
   "execution_count": 14,
   "metadata": {},
   "outputs": [
    {
     "data": {
      "text/plain": [
       "{'Average': 1.46774,\n",
       " 'CompartmentsConsidered': 11674.0,\n",
       " 'CompartmentsDiscarded': 3.0,\n",
       " 'Maximum': 4.748,\n",
       " 'Minimum': 0.406,\n",
       " 'StdDev': 0.728892,\n",
       " 'TotalSum': 17134.4}"
      ]
     },
     "execution_count": 14,
     "metadata": {},
     "output_type": "execute_result"
    }
   ],
   "source": [
    "# Compute the diameter statistics of non-soma compartments\n",
    "LMOutput = getOneMeasure('Diameter', swcFile, specificity=\"Type > 1\")\n",
    "LMOutput"
   ]
  },
  {
   "cell_type": "code",
   "execution_count": 15,
   "metadata": {},
   "outputs": [
    {
     "data": {
      "text/plain": [
       "{'Average': 1.42768,\n",
       " 'CompartmentsConsidered': 4699.0,\n",
       " 'CompartmentsDiscarded': 6978.0,\n",
       " 'Maximum': 4.582,\n",
       " 'Minimum': 0.406,\n",
       " 'StdDev': 0.684917,\n",
       " 'TotalSum': 6708.66}"
      ]
     },
     "execution_count": 15,
     "metadata": {},
     "output_type": "execute_result"
    }
   ],
   "source": [
    "# Multiple conditions can be specified too. Below is a filter for non-soma compartments, less than 100 um away\n",
    "LMOutput = getOneMeasure('Diameter', swcFile, specificity=\"Type > 1 and EucDistance < 100\")\n",
    "LMOutput"
   ]
  },
  {
   "cell_type": "markdown",
   "metadata": {},
   "source": [
    "# PCA or \"rotate upright\"\n",
    "\n",
    "Before computing Height, Depth, and Width measures, [L-Measure documentation](http://cng.gmu.edu:8080/Lm/help/Width.htm) recommends orienting the cell points along the principal components. Usually this means ~\"standing the cell upright\".\n",
    "\n",
    "To perform the rotation, pass the `PCA=True` parameter into any of the above getXYZ... functions."
   ]
  },
  {
   "cell_type": "code",
   "execution_count": 16,
   "metadata": {},
   "outputs": [
    {
     "data": {
      "text/plain": [
       "{'Average': 137.453,\n",
       " 'CompartmentsConsidered': 11677.0,\n",
       " 'CompartmentsDiscarded': 0.0,\n",
       " 'Maximum': 137.453,\n",
       " 'Minimum': 137.453,\n",
       " 'StdDev': 0.0,\n",
       " 'TotalSum': 137.453}"
      ]
     },
     "execution_count": 16,
     "metadata": {},
     "output_type": "execute_result"
    }
   ],
   "source": [
    "# Compute the Height statistics after orienting the cell along the point principal components\n",
    "LMOutput = getOneMeasure('Height', swcFile, PCA=True)\n",
    "LMOutput"
   ]
  }
 ],
 "metadata": {
  "kernelspec": {
   "display_name": "Python 3",
   "language": "python",
   "name": "python3"
  },
  "language_info": {
   "codemirror_mode": {
    "name": "ipython",
    "version": 3
   },
   "file_extension": ".py",
   "mimetype": "text/x-python",
   "name": "python",
   "nbconvert_exporter": "python",
   "pygments_lexer": "ipython3",
   "version": "3.8.3"
  }
 },
 "nbformat": 4,
 "nbformat_minor": 4
}
