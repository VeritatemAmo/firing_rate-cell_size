{
 "cells": [
  {
   "cell_type": "markdown",
   "id": "c07f828f-dcdb-42de-91b6-800eeabd2d36",
   "metadata": {},
   "source": [
    "This script checks the correlation between soma size and capacitance, and wether inhibitory neurons have lower capacitance than excitatory neruons when soma size is similar. "
   ]
  },
  {
   "cell_type": "code",
   "execution_count": 1,
   "id": "a3c5886b-c6f7-444c-8cf6-293a4fc9e302",
   "metadata": {},
   "outputs": [],
   "source": [
    "import numpy as np\n",
    "import pandas as pd"
   ]
  },
  {
   "cell_type": "code",
   "execution_count": 2,
   "id": "d454429b-9b3a-4d87-a962-3313fe416db9",
   "metadata": {},
   "outputs": [],
   "source": [
    "df = pd.read_csv('../result/mouse_volume_FR_nomenclature.tsv',sep='\\t',index_col=0)"
   ]
  },
  {
   "cell_type": "code",
   "execution_count": null,
   "id": "58a5788c-d909-40eb-be0c-5112d35655d2",
   "metadata": {},
   "outputs": [],
   "source": []
  }
 ],
 "metadata": {
  "kernelspec": {
   "display_name": "Python 3 (ipykernel)",
   "language": "python",
   "name": "python3"
  },
  "language_info": {
   "codemirror_mode": {
    "name": "ipython",
    "version": 3
   },
   "file_extension": ".py",
   "mimetype": "text/x-python",
   "name": "python",
   "nbconvert_exporter": "python",
   "pygments_lexer": "ipython3",
   "version": "3.8.13"
  }
 },
 "nbformat": 4,
 "nbformat_minor": 5
}
